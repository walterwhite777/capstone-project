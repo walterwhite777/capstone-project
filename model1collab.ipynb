{
  "cells": [
    {
      "cell_type": "code",
      "source": [
        "!pip install -q pathway bokeh panel"
      ],
      "metadata": {
        "id": "O9Y3u6a6H1BH"
      },
      "id": "O9Y3u6a6H1BH",
      "execution_count": null,
      "outputs": []
    },
    {
      "cell_type": "code",
      "source": [
        "import pathway as pw\n",
        "import pandas as pd\n",
        "import numpy as np\n",
        "import datetime\n",
        "import bokeh.plotting\n",
        "import panel as pn\n",
        "pn.extension()"
      ],
      "metadata": {
        "id": "iX4ntQej1F-c"
      },
      "id": "iX4ntQej1F-c",
      "execution_count": null,
      "outputs": []
    },
    {
      "cell_type": "code",
      "source": [
        "# Download dataset from Google Drive (shared link)\n",
        "!gdown --fuzzy 'https://drive.google.com/file/d/1Qr1C5puaXsbjfmQYw8qudKtESJPmMg9D/view?usp=sharing' -O dataset.csv"
      ],
      "metadata": {
        "id": "eQ1fD-nMAyEa"
      },
      "id": "eQ1fD-nMAyEa",
      "execution_count": null,
      "outputs": []
    },
    {
      "cell_type": "code",
      "source": [
        "df = pd.read_csv(\"dataset.csv\")\n",
        "\n",
        "# Combine date + time → timestamp\n",
        "df[\"Timestamp\"] = pd.to_datetime(df[\"LastUpdatedDate\"] + \" \" + df[\"LastUpdatedTime\"],\n",
        "                                 format=\"%d-%m-%Y %H:%M:%S\")\n",
        "\n",
        "# Keep only required fields\n",
        "df = df[[\"Timestamp\", \"SystemCodeNumber\", \"Occupancy\", \"Capacity\"]]\n",
        "df = df.sort_values(\"Timestamp\")\n",
        "\n",
        "# Save cleaned data for streaming\n",
        "df.to_csv(\"model1_stream.csv\", index=False)"
      ],
      "metadata": {
        "id": "8COzyUQsAyHN"
      },
      "id": "8COzyUQsAyHN",
      "execution_count": null,
      "outputs": []
    },
    {
      "cell_type": "code",
      "source": [
        "class ParkingSchema(pw.Schema):\n",
        "    Timestamp: str\n",
        "    SystemCodeNumber: str\n",
        "    Occupancy: int\n",
        "    Capacity: int\n",
        "\n",
        "# Load stream with 100 rows/second\n",
        "stream = pw.demo.replay_csv(\"model1_stream.csv\", schema=ParkingSchema, input_rate=100)\n",
        "\n",
        "# Parse timestamp & day\n",
        "fmt = \"%Y-%m-%d %H:%M:%S\"\n",
        "data = stream.with_columns(\n",
        "    t = stream.Timestamp.dt.strptime(fmt),\n",
        "    day = stream.Timestamp.dt.strptime(fmt).dt.strftime(\"%Y-%m-%dT00:00:00\")\n",
        ")"
      ],
      "metadata": {
        "id": "xBi3839vAyKE"
      },
      "id": "xBi3839vAyKE",
      "execution_count": null,
      "outputs": []
    },
    {
      "cell_type": "code",
      "source": [
        "windowed = (\n",
        "    data.windowby(\n",
        "        time_expr=pw.this.t,\n",
        "        instance=pw.this.SystemCodeNumber + pw.this.day,\n",
        "        window=pw.temporal.tumbling(datetime.timedelta(days=1)),\n",
        "        behavior=pw.temporal.exactly_once_behavior()\n",
        "    )\n",
        "    .reduce(\n",
        "        SystemCodeNumber = pw.reducers.any(pw.this.SystemCodeNumber),\n",
        "        t = pw.this._pw_window_end,\n",
        "        occ = pw.reducers.max(pw.this.Occupancy),\n",
        "        cap = pw.reducers.max(pw.this.Capacity),\n",
        "    )\n",
        "    .with_columns(\n",
        "        price = 10 + 2.5 * (pw.this.occ / pw.this.cap),\n",
        "        diff = 1\n",
        "    )\n",
        ")"
      ],
      "metadata": {
        "id": "57KlL9YRAyM9"
      },
      "id": "57KlL9YRAyM9",
      "execution_count": null,
      "outputs": []
    },
    {
      "cell_type": "code",
      "source": [
        "# Get list of lots from CSV\n",
        "lots = pd.read_csv(\"model1_stream.csv\")[\"SystemCodeNumber\"].unique().tolist()\n",
        "\n",
        "# Create one Bokeh plot per lot\n",
        "def plot_linear_price(lot):\n",
        "    table = windowed.filter(pw.this.SystemCodeNumber == lot).select(\n",
        "        t = pw.this.t,\n",
        "        price = pw.this.price\n",
        "    )\n",
        "    def make_plot(source):\n",
        "        fig = bokeh.plotting.figure(\n",
        "            title=f\"Model 1 – Price Curve: {lot}\",\n",
        "            x_axis_type=\"datetime\",\n",
        "            height=300,\n",
        "            width=750\n",
        "        )\n",
        "        fig.line(\"t\", \"price\", source=source, color=\"navy\", line_width=2)\n",
        "        fig.scatter(\"t\", \"price\", source=source, color=\"red\", size=6)\n",
        "        return fig\n",
        "    return table.plot(make_plot, sorting_col=\"t\")\n",
        "\n",
        "# Stack all plots vertically\n",
        "all_model1_plots = [plot_linear_price(lot) for lot in lots]\n",
        "pn.Column(\"## Model 1 – Daily Linear Pricing Per Lot\", *all_model1_plots).servable()"
      ],
      "metadata": {
        "id": "Rc_8zenKAyPs"
      },
      "id": "Rc_8zenKAyPs",
      "execution_count": null,
      "outputs": []
    },
    {
      "cell_type": "code",
      "source": [
        "with contextlib.redirect_stdout(sys.stdout), contextlib.redirect_stderr(sys.stderr):\n",
        "    pw.run()"
      ],
      "metadata": {
        "id": "zkL7RZ7vAySQ"
      },
      "id": "zkL7RZ7vAySQ",
      "execution_count": null,
      "outputs": []
    }
  ],
  "metadata": {
    "kernelspec": {
      "display_name": "base",
      "language": "python",
      "name": "python3"
    },
    "language_info": {
      "codemirror_mode": {
        "name": "ipython",
        "version": 3
      },
      "file_extension": ".py",
      "mimetype": "text/x-python",
      "name": "python",
      "nbconvert_exporter": "python",
      "pygments_lexer": "ipython3",
      "version": "3.12.7"
    },
    "colab": {
      "provenance": []
    }
  },
  "nbformat": 4,
  "nbformat_minor": 5
}