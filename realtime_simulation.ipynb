{
  "nbformat": 4,
  "nbformat_minor": 0,
  "metadata": {
    "colab": {
      "provenance": []
    },
    "kernelspec": {
      "name": "python3",
      "display_name": "Python 3"
    },
    "language_info": {
      "name": "python"
    }
  },
  "cells": [
    {
      "cell_type": "code",
      "execution_count": null,
      "metadata": {
        "id": "97GfDKxQZu7I"
      },
      "outputs": [],
      "source": [
        "# 📦 Install necessary packages\n",
        "!pip install pathway bokeh panel --quiet\n",
        "\n",
        "# 📥 Import libraries\n",
        "import pathway as pw\n",
        "import datetime\n",
        "import pandas as pd\n",
        "import numpy as np\n",
        "import bokeh.plotting\n",
        "import panel as pn\n",
        "import sys\n",
        "import contextlib\n",
        "pn.extension()"
      ]
    },
    {
      "cell_type": "code",
      "source": [
        "# Load and enrich original data\n",
        "df = pd.read_csv(\"dataset.csv\")\n",
        "df['Timestamp'] = pd.to_datetime(df['LastUpdatedDate'] + ' ' + df['LastUpdatedTime'], format='%d-%m-%Y %H:%M:%S')\n",
        "\n",
        "# Add necessary demand features\n",
        "def encode_traffic(x): return {\"low\": 0, \"average\": 0.5, \"high\": 1}.get(x, 0.5)\n",
        "def encode_vehicle(x): return {\"bike\": 0.5, \"car\": 1.0, \"truck\": 1.5, \"cycle\": 0.2}.get(x, 1.0)\n",
        "\n",
        "df['TrafficLevel'] = df['TrafficConditionNearby'].apply(encode_traffic)\n",
        "df['VehicleWeight'] = df['VehicleType'].apply(encode_vehicle)\n",
        "df['OccupancyRatio'] = df['Occupancy'] / df['Capacity']\n",
        "df = df.sort_values(\"Timestamp\")\n",
        "\n",
        "# Save as simulated stream\n",
        "df[['Timestamp', 'SystemCodeNumber', 'OccupancyRatio', 'QueueLength', 'TrafficLevel', 'IsSpecialDay', 'VehicleWeight']].to_csv(\"realtime_stream.csv\", index=False)"
      ],
      "metadata": {
        "id": "_vX73m-YaIFk"
      },
      "execution_count": null,
      "outputs": []
    },
    {
      "cell_type": "code",
      "source": [
        "# Define schema\n",
        "class StreamSchema(pw.Schema):\n",
        "    Timestamp: str\n",
        "    SystemCodeNumber: str\n",
        "    OccupancyRatio: float\n",
        "    QueueLength: int\n",
        "    TrafficLevel: float\n",
        "    IsSpecialDay: int\n",
        "    VehicleWeight: float\n",
        "\n",
        "# Ingest with delay to simulate real-time\n",
        "stream = pw.demo.replay_csv(\n",
        "    \"realtime_stream.csv\",\n",
        "    schema=StreamSchema,\n",
        "    input_rate=100  # stream speed\n",
        ")"
      ],
      "metadata": {
        "id": "fgmcNh-JaIIF"
      },
      "execution_count": null,
      "outputs": []
    },
    {
      "cell_type": "code",
      "source": [
        "# Parse timestamp\n",
        "fmt = \"%Y-%m-%d %H:%M:%S\"\n",
        "stream = stream.with_columns(\n",
        "    t = stream.Timestamp.dt.strptime(fmt),\n",
        "    day = stream.Timestamp.dt.strptime(fmt).dt.strftime(\"%Y-%m-%dT00:00:00\")\n",
        ")\n",
        "\n",
        "# Weighted demand calculation\n",
        "alpha, beta, gamma, delta, epsilon = 0.1, 0.05, 0.02, 0.02, 0.03\n",
        "base_price = 10\n",
        "lambda_scale = 1.5\n",
        "\n",
        "windowed = (\n",
        "    stream.windowby(\n",
        "        time_expr=pw.this.t,\n",
        "        instance=pw.this.SystemCodeNumber + pw.this.day,\n",
        "        window=pw.temporal.tumbling(datetime.timedelta(days=1)),\n",
        "        behavior=pw.temporal.exactly_once_behavior()\n",
        "    )\n",
        "    .reduce(\n",
        "        SystemCodeNumber = pw.reducers.any(pw.this.SystemCodeNumber),\n",
        "        day = pw.reducers.any(pw.this.day),\n",
        "        t = pw.this._pw_window_end,\n",
        "        sum_demand = pw.reducers.sum(\n",
        "            alpha * pw.this.OccupancyRatio +\n",
        "            beta * pw.this.QueueLength +\n",
        "            gamma * pw.this.TrafficLevel +\n",
        "            delta * pw.this.IsSpecialDay +\n",
        "            epsilon * pw.this.VehicleWeight\n",
        "        ),\n",
        "        count = pw.reducers.count()\n",
        "    )\n",
        ")\n",
        "\n",
        "windowed = windowed.with_columns(\n",
        "    demand = pw.this.sum_demand / pw.this.count,\n",
        "    demand_normalized = pw.apply(lambda d: max(0, min(1, d)), pw.this.sum_demand / pw.this.count),\n",
        "    price = pw.apply(lambda d: base_price * (1 + lambda_scale * d), pw.this.demand_normalized)\n",
        ")"
      ],
      "metadata": {
        "id": "GvNXhgPLaIKY"
      },
      "execution_count": null,
      "outputs": []
    },
    {
      "cell_type": "code",
      "source": [
        "# Extract list of lots\n",
        "lots = pd.read_csv(\"realtime_stream.csv\")[\"SystemCodeNumber\"].unique().tolist()\n",
        "\n",
        "def plot_price_for_lot(lot):\n",
        "    df = windowed.select(\n",
        "        t = pw.this.t,\n",
        "        price = pw.this.price,\n",
        "        SystemCodeNumber = pw.this.SystemCodeNumber\n",
        "    ).filter(pw.this.SystemCodeNumber == lot)\n",
        "\n",
        "    def make_plot(source):\n",
        "        fig = bokeh.plotting.figure(\n",
        "            title=f\"Live Price – {lot}\",\n",
        "            x_axis_type=\"datetime\", height=300, width=700\n",
        "        )\n",
        "        fig.line(\"t\", \"price\", source=source, line_width=2)\n",
        "        fig.circle(\"t\", \"price\", source=source, size=6)\n",
        "        return fig\n",
        "\n",
        "    return df.plot(make_plot, sorting_col=\"t\")\n",
        "\n",
        "# Create panel layout of 14 plots\n",
        "plots = [plot_price_for_lot(lot) for lot in lots]\n",
        "pn.Column(\"## Demand-Based Pricing for All Parking Lots\", *plots).servable()"
      ],
      "metadata": {
        "id": "sfmDWhjJaIM6"
      },
      "execution_count": null,
      "outputs": []
    },
    {
      "cell_type": "code",
      "source": [
        "# Save results as JSON and run\n",
        "pw.io.jsonlines.write(\n",
        "    windowed.select(t = pw.this.t, SystemCodeNumber = pw.this.SystemCodeNumber, price = pw.this.price),\n",
        "    \"streaming_output_model2.jsonl\"\n",
        ")\n",
        "\n",
        "# Execute\n",
        "with contextlib.redirect_stdout(sys.stdout), contextlib.redirect_stderr(sys.stderr):\n",
        "    pw.run().await_termination()"
      ],
      "metadata": {
        "id": "UEcfyAqUaIPK"
      },
      "execution_count": null,
      "outputs": []
    },
    {
      "cell_type": "code",
      "source": [],
      "metadata": {
        "id": "fl4o314xaIRs"
      },
      "execution_count": null,
      "outputs": []
    },
    {
      "cell_type": "code",
      "source": [],
      "metadata": {
        "id": "_LDSYeJtaIUD"
      },
      "execution_count": null,
      "outputs": []
    },
    {
      "cell_type": "code",
      "source": [],
      "metadata": {
        "id": "J0sAhqWBaIWl"
      },
      "execution_count": null,
      "outputs": []
    }
  ]
}